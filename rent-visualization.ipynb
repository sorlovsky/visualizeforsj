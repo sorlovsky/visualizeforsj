{
 "cells": [
  {
   "cell_type": "code",
   "execution_count": 9,
   "metadata": {},
   "outputs": [
    {
     "name": "stdout",
     "output_type": "stream",
     "text": [
      "Populating the interactive namespace from numpy and matplotlib\n"
     ]
    }
   ],
   "source": [
    "import pandas as pd\n",
    "import numpy as np\n",
    "import matplotlib.pyplot as plt\n",
    "\n",
    "%pylab inline"
   ]
  },
  {
   "cell_type": "code",
   "execution_count": 46,
   "metadata": {},
   "outputs": [],
   "source": [
    "rent = pd.read_csv('/Users/simonorlovsky/Downloads/monthly_apt_rent_rentjungle.csv')"
   ]
  },
  {
   "cell_type": "code",
   "execution_count": 5,
   "metadata": {},
   "outputs": [
    {
     "data": {
      "text/html": [
       "<div>\n",
       "<style>\n",
       "    .dataframe thead tr:only-child th {\n",
       "        text-align: right;\n",
       "    }\n",
       "\n",
       "    .dataframe thead th {\n",
       "        text-align: left;\n",
       "    }\n",
       "\n",
       "    .dataframe tbody tr th {\n",
       "        vertical-align: top;\n",
       "    }\n",
       "</style>\n",
       "<table border=\"1\" class=\"dataframe\">\n",
       "  <thead>\n",
       "    <tr style=\"text-align: right;\">\n",
       "      <th></th>\n",
       "      <th>Date</th>\n",
       "      <th>Average</th>\n",
       "      <th>1 Bedroom</th>\n",
       "      <th>2 bedroom</th>\n",
       "    </tr>\n",
       "  </thead>\n",
       "  <tbody>\n",
       "    <tr>\n",
       "      <th>0</th>\n",
       "      <td>Aug-09</td>\n",
       "      <td>1,699</td>\n",
       "      <td>1,339</td>\n",
       "      <td>1,864</td>\n",
       "    </tr>\n",
       "    <tr>\n",
       "      <th>1</th>\n",
       "      <td>Sep-09</td>\n",
       "      <td>1,677</td>\n",
       "      <td>1,323</td>\n",
       "      <td>1,827</td>\n",
       "    </tr>\n",
       "    <tr>\n",
       "      <th>2</th>\n",
       "      <td>Oct-09</td>\n",
       "      <td>1,673</td>\n",
       "      <td>1,331</td>\n",
       "      <td>1,855</td>\n",
       "    </tr>\n",
       "    <tr>\n",
       "      <th>3</th>\n",
       "      <td>Nov-09</td>\n",
       "      <td>1,683</td>\n",
       "      <td>1,332</td>\n",
       "      <td>1,831</td>\n",
       "    </tr>\n",
       "    <tr>\n",
       "      <th>4</th>\n",
       "      <td>Dec-09</td>\n",
       "      <td>1,698</td>\n",
       "      <td>1,330</td>\n",
       "      <td>1,828</td>\n",
       "    </tr>\n",
       "  </tbody>\n",
       "</table>\n",
       "</div>"
      ],
      "text/plain": [
       "     Date Average 1 Bedroom 2 bedroom\n",
       "0  Aug-09   1,699     1,339     1,864\n",
       "1  Sep-09   1,677     1,323     1,827\n",
       "2  Oct-09   1,673     1,331     1,855\n",
       "3  Nov-09   1,683     1,332     1,831\n",
       "4  Dec-09   1,698     1,330     1,828"
      ]
     },
     "execution_count": 5,
     "metadata": {},
     "output_type": "execute_result"
    }
   ],
   "source": [
    "rent.head()"
   ]
  },
  {
   "cell_type": "code",
   "execution_count": 47,
   "metadata": {},
   "outputs": [],
   "source": [
    "y = list(map(int, [x.replace(',', '') for x in rent.Average]))"
   ]
  },
  {
   "cell_type": "code",
   "execution_count": 54,
   "metadata": {
    "collapsed": true
   },
   "outputs": [],
   "source": [
    "y = y[0:10]"
   ]
  },
  {
   "cell_type": "code",
   "execution_count": 61,
   "metadata": {},
   "outputs": [
    {
     "data": {
      "text/plain": [
       "0     Aug-09\n",
       "1     Sep-09\n",
       "2     Oct-09\n",
       "3     Nov-09\n",
       "4     Dec-09\n",
       "5     Jan-10\n",
       "6     Feb-10\n",
       "7     Mar-10\n",
       "8     Apr-10\n",
       "9     May-10\n",
       "10    Jun-10\n",
       "11    Jul-10\n",
       "12    Aug-10\n",
       "13    Sep-10\n",
       "14    Oct-10\n",
       "15    Nov-10\n",
       "16    Dec-10\n",
       "17    Jan-11\n",
       "18    Feb-11\n",
       "19    Mar-11\n",
       "20    Apr-11\n",
       "21    May-11\n",
       "22    Jun-11\n",
       "23    Jul-11\n",
       "24    Aug-11\n",
       "25    Sep-11\n",
       "26    Oct-11\n",
       "27    Nov-11\n",
       "28    Dec-11\n",
       "29    Jan-12\n",
       "       ...  \n",
       "62    Oct-14\n",
       "63    Nov-14\n",
       "64    Dec-14\n",
       "65    Jan-15\n",
       "66    Feb-15\n",
       "67    Mar-15\n",
       "68    Apr-15\n",
       "69    May-15\n",
       "70    Jun-15\n",
       "71    Jul-15\n",
       "72    Aug-15\n",
       "73    Sep-15\n",
       "74    Oct-15\n",
       "75    Nov-15\n",
       "76    Dec-15\n",
       "77    Jan-16\n",
       "78    Feb-16\n",
       "79    Mar-16\n",
       "80    Apr-16\n",
       "81    May-16\n",
       "82    Jun-16\n",
       "83    Jul-16\n",
       "84    Aug-16\n",
       "85    Sep-16\n",
       "86    Oct-16\n",
       "87    Nov-16\n",
       "88    Dec-16\n",
       "89    Jan-17\n",
       "90    Feb-17\n",
       "91    Mar-17\n",
       "Name: Date, Length: 92, dtype: object"
      ]
     },
     "execution_count": 61,
     "metadata": {},
     "output_type": "execute_result"
    }
   ],
   "source": [
    "rent.iloc[:, 0]"
   ]
  },
  {
   "cell_type": "code",
   "execution_count": 51,
   "metadata": {},
   "outputs": [
    {
     "data": {
      "text/plain": [
       "92"
      ]
     },
     "execution_count": 51,
     "metadata": {},
     "output_type": "execute_result"
    }
   ],
   "source": [
    "rent.Date.size"
   ]
  },
  {
   "cell_type": "code",
   "execution_count": 57,
   "metadata": {},
   "outputs": [
    {
     "data": {
      "text/plain": [
       "([<matplotlib.axis.XTick at 0x11c043dd8>,\n",
       "  <matplotlib.axis.XTick at 0x11c15a6d8>,\n",
       "  <matplotlib.axis.XTick at 0x11c15a048>,\n",
       "  <matplotlib.axis.XTick at 0x11c0f8630>,\n",
       "  <matplotlib.axis.XTick at 0x11c100048>,\n",
       "  <matplotlib.axis.XTick at 0x11c100a20>,\n",
       "  <matplotlib.axis.XTick at 0x11c105358>,\n",
       "  <matplotlib.axis.XTick at 0x11c105d30>,\n",
       "  <matplotlib.axis.XTick at 0x11c10a748>,\n",
       "  <matplotlib.axis.XTick at 0x11c112160>],\n",
       " <a list of 10 Text xticklabel objects>)"
      ]
     },
     "execution_count": 57,
     "metadata": {},
     "output_type": "execute_result"
    },
    {
     "data": {
      "image/png": "[encoded data removed]",
      "text/plain": [
       "<matplotlib.figure.Figure at 0x11bb2f4e0>"
      ]
     },
     "metadata": {},
     "output_type": "display_data"
    }
   ],
   "source": [
    "plt.scatter(rent.index[0:10], y)\n",
    "plt.xticks(arange(10), rent.Date[0:10])"
   ]
  },
  {
   "cell_type": "code",
   "execution_count": 16,
   "metadata": {},
   "outputs": [
    {
     "data": {
      "text/plain": [
       "[<matplotlib.lines.Line2D at 0x11b5de2e8>]"
      ]
     },
     "execution_count": 16,
     "metadata": {},
     "output_type": "execute_result"
    },
    {
     "data": {
      "image/png": "[encoded data removed]",
      "text/plain": [
       "<matplotlib.figure.Figure at 0x11b6ad400>"
      ]
     },
     "metadata": {},
     "output_type": "display_data"
    }
   ],
   "source": [
    "plt.plot([1,2,3,4], [1,4,9,16], 'ro')"
   ]
  },
  {
   "cell_type": "code",
   "execution_count": 35,
   "metadata": {},
   "outputs": [],
   "source": [
    "y = [1,2,4]"
   ]
  },
  {
   "cell_type": "code",
   "execution_count": 37,
   "metadata": {},
   "outputs": [
    {
     "data": {
      "text/plain": [
       "[3, 4, 6]"
      ]
     },
     "execution_count": 37,
     "metadata": {},
     "output_type": "execute_result"
    }
   ],
   "source": [
    "list(map(lambda x: x+2, y))"
   ]
  },
  {
   "cell_type": "code",
   "execution_count": null,
   "metadata": {
    "collapsed": true
   },
   "outputs": [],
   "source": []
  }
 ],
 "metadata": {
  "kernelspec": {
   "display_name": "Python 3",
   "language": "python",
   "name": "python3"
  },
  "language_info": {
   "codemirror_mode": {
    "name": "ipython",
    "version": 3
   },
   "file_extension": ".py",
   "mimetype": "text/x-python",
   "name": "python",
   "nbconvert_exporter": "python",
   "pygments_lexer": "ipython3",
   "version": "3.6.1"
  }
 },
 "nbformat": 4,
 "nbformat_minor": 2
}
